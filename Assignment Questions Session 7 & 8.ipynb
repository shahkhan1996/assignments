{
 "cells": [
  {
   "cell_type": "markdown",
   "id": "efd13b3e-821e-4e93-984a-78e857c99b5a",
   "metadata": {},
   "source": [
    "Q1. Write program to check a person’s eligibility for a loan based on age, credit score, and income. This time, the eligibility criteria will be:\n",
    "\n",
    "The person must be 18 years or older. The person must have a credit score of 650 or higher. The person must have an annual income of at least 30000 dollars If the person has a credit score of 700 or higher, they may still be eligible with an income of 25000 dollars or more.\n",
    "\n"
   ]
  },
  {
   "cell_type": "markdown",
   "id": "3975a7d9-a565-4856-b673-a8dba4b69b9e",
   "metadata": {},
   "source": [
    "Q2. Write a Python program that checks if a person is an adult (age ≥ 18).\n",
    "\n",
    "Take the age as input.\n",
    "If the person is underage (age < 18), show message: \"You are underage\" and don't ask for experience.\n",
    "\n",
    "If the person is an adult, take years of experience as input and print:\n",
    "\"You have a lot of experience.\" (10+ years)\n",
    "\"You have moderate experience.\" (5-9 years)\n",
    "\"You are relatively new.\" (2-4 years)\n",
    "\"You are just starting out.\" (less than 2 years)"
   ]
  },
  {
   "cell_type": "markdown",
   "id": "96047af6-f170-47ad-ba7c-9c72528811f3",
   "metadata": {},
   "source": [
    "Q3. Write a program to explore below variables\n",
    "\n",
    "a) Print their memory address (to check if python assigns same address of different variables having same element)\n",
    "\n",
    "b) Find memory size and append them in a list, use this list to find data type having least memory size\n",
    "\n",
    "c) Print final name of data type which has lowest memory\n",
    "\n",
    "Result will help a programmer to decide which variable is stroing less memory and variable locations"
   ]
  },
  {
   "cell_type": "markdown",
   "id": "4c895c79-733d-4f28-aa6f-17fecc569473",
   "metadata": {},
   "source": [
    "Q4. Write a Python program that asks the user to enter an email address. The program should check if the email contains the characters @ and \".\" (ignoring case). If either character is present, print \"Email format is valid.\" Otherwise, print \"Invalid email format.\""
   ]
  },
  {
   "cell_type": "markdown",
   "id": "11fc6d13-26ba-4a37-adb1-89d841353cec",
   "metadata": {},
   "source": [
    "Q5. Write a python program to know data type of each element stored in a tuple, append the data types in a list. Show final output in a list as data types of tuple elements\n",
    "\n",
    "### x = (11,22.333,'apple',[1,2,3],('a','b'))"
   ]
  },
  {
   "cell_type": "markdown",
   "id": "7aff1418-4e77-4d38-9cd3-2e81779cb114",
   "metadata": {},
   "source": [
    "Q6. Write a Python program that:\n",
    "\n",
    "Checks if a given username exists in a list of active users.\n",
    "Verifies if the user is the admin using identity operators.\n",
    "\n",
    "Hints:\n",
    "\n",
    "Use a list of tuples where each tuple contains a username and role\n",
    "\n",
    "[(\"alice\", \"admin\"),\n",
    "(\"bob\", \"user\"),\n",
    "(\"charlie\", \"moderator\")]\n",
    "\n",
    "Use the in operator to check if the username exists in the list.\n",
    "Use the is operator to check if the user is the admin (admin is a specific reference, e.g., (\"alice\", \"admin\"))."
   ]
  },
  {
   "cell_type": "markdown",
   "id": "97e8363b-aecc-4b53-af63-98156c35ff72",
   "metadata": {},
   "source": [
    "Q7. person1 has same family as of person2, write a program to print relation between person1 and person2, if their data is ['father name','mother name','district','family number'] same (Print relation 'Siblings') also check person1 data with person3 which is cousin of person1 (Print relation 'Cousin')\n",
    "\n",
    "Hint:\n",
    "\n",
    "Use identity operator"
   ]
  },
  {
   "cell_type": "markdown",
   "id": "b374b3b6-cc09-4f15-afb6-ff5a6625b602",
   "metadata": {},
   "source": [
    "Q8. Write a Python program to store and display a book's title, author, year of publication, and price using a tuple.\n",
    "\n",
    "Instructions:\n",
    "\n",
    "Create a tuple to store the book details.\n",
    "\n",
    "Ask the user for the book's title, author, year, and price.\n",
    "\n",
    "Display the stored book information."
   ]
  },
  {
   "cell_type": "markdown",
   "id": "a07d9663-53b1-41d2-bb6c-6c0708dd95f4",
   "metadata": {},
   "source": [
    "Q9. Write a program to check if a user’s chosen subject is available in the list of offered subjects.\n",
    "\n",
    "Instructions:\n",
    "\n",
    "Given a list of subjects, ask the user to input a subject.\n",
    "\n",
    "Display whether the subject is available or not."
   ]
  },
  {
   "cell_type": "markdown",
   "id": "7354ba76-d6d4-4ab6-8511-d944b38c2389",
   "metadata": {},
   "source": [
    "Q10. Write a program to explore below variables\n",
    "\n",
    "a) Print their memory address (to check if python assigns same address of different variables having same sentence)\n",
    "\n",
    "b) Find memory size and append them in a list, use this list to find least memory size\n",
    "\n",
    "c) Sort list in ascending order\n",
    "\n",
    "Result will help a programmer to decide which variable is stroing less memory and variable locations"
   ]
  },
  {
   "cell_type": "markdown",
   "id": "4cc97954-ecad-4c09-8cdb-dbe120fc8362",
   "metadata": {},
   "source": []
  }
 ],
 "metadata": {
  "kernelspec": {
   "display_name": "Python 3 (ipykernel)",
   "language": "python",
   "name": "python3"
  },
  "language_info": {
   "codemirror_mode": {
    "name": "ipython",
    "version": 3
   },
   "file_extension": ".py",
   "mimetype": "text/x-python",
   "name": "python",
   "nbconvert_exporter": "python",
   "pygments_lexer": "ipython3",
   "version": "3.12.7"
  }
 },
 "nbformat": 4,
 "nbformat_minor": 5
}
