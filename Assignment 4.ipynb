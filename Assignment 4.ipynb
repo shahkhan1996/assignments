{
 "cells": [
  {
   "cell_type": "markdown",
   "id": "70ac315f-0092-4e83-8124-0e6d8ecae798",
   "metadata": {},
   "source": [
    "Q1. my_tuple = ( (1, 2, 3), [4, 5, 6], ('apple', 'banana', 'cherry'), [7, 8, 9] )\n",
    "\n",
    "\n",
    "•\tPrint all elements from my_tuple on a new line (using for loop)\n",
    "\n",
    "•\tCreate a new tuple by concatenating the first and last elements of my_tuple\n"
   ]
  },
  {
   "cell_type": "code",
   "execution_count": 33,
   "id": "6941dad4-57ba-479e-99a6-7da039194756",
   "metadata": {},
   "outputs": [
    {
     "name": "stdout",
     "output_type": "stream",
     "text": [
      "(1, 2, 3)\n",
      "[4, 5, 6]\n",
      "('apple', 'banana', 'cherry')\n",
      "[7, 8, 9]\n",
      "(1, 2, 3, 7, 8, 9)\n"
     ]
    }
   ],
   "source": [
    "my_tuple = ( (1, 2, 3), [4, 5, 6], ('apple', 'banana', 'cherry'), [7, 8, 9] ) \n",
    "\n",
    "# 1 \n",
    "for element in my_tuple:\n",
    "    print(element)\n",
    "\n",
    "# 2\n",
    "new_tuple = my_tuple[0] + tuple(my_tuple[3])\n",
    "print(new_tuple) "
   ]
  },
  {
   "cell_type": "markdown",
   "id": "5d6a7bc4-f29f-4b74-a838-e17100ac1524",
   "metadata": {},
   "source": [
    "Q2. inventory = { \"The Great Gatsby\": {\"price\": 10.99, \"quantity\": 5}, \"Rich dad poor dad\": {\"price\": 8.99, \"quantity\": 8}, \"Harry Potter\": {\"price\": 12.50, \"quantity\": 2}, }\n",
    "\n",
    "•\tAdd a new book in inventory using method and get all book titles using method\n",
    "\n",
    "•\tRemove a book if it's out of stock"
   ]
  },
  {
   "cell_type": "code",
   "execution_count": 40,
   "id": "c792bfda-31cd-47d4-97af-ba2c8c4ec004",
   "metadata": {},
   "outputs": [
    {
     "name": "stdout",
     "output_type": "stream",
     "text": [
      "{'The Great Gatsby': {'price': 10.99, 'quantity': 5}, 'Rich dad poor dad': {'price': 8.99, 'quantity': 8}, 'Harry Potter': {'price': 12.5, 'quantity': 3}, 'think and grow rich': {'price': 9.99, 'quantity': 3}}\n",
      "['The Great Gatsby', 'Rich dad poor dad', 'Harry Potter', 'think and grow rich']\n",
      "Stock is available\n"
     ]
    }
   ],
   "source": [
    "inventory = { \"The Great Gatsby\": {\"price\": 10.99, \"quantity\": 5}, \"Rich dad poor dad\": {\"price\": 8.99, \"quantity\": 8}, \"Harry Potter\": {\"price\": 12.50, \"quantity\": 3}, }\n",
    "\n",
    "# 1\n",
    "inventory.update({ \"think and grow rich\": {\"price\": 9.99, \"quantity\": 3} }) \n",
    "print(inventory)\n",
    "\n",
    "\n",
    "book_titles = list(inventory.keys())\n",
    "print(book_titles)\n",
    "\n",
    "# 2\n",
    "if inventory[\"Harry Potter\"][\"quantity\"] == 0:\n",
    "    del inventory[\"Harry Potter\"]\n",
    "    print(\"Updated inventory:\", inventory)\n",
    "else:\n",
    "    print('Stock is available')\n"
   ]
  },
  {
   "cell_type": "markdown",
   "id": "7d96ee5d-33a6-4f31-ab31-4135a13fe47b",
   "metadata": {},
   "source": [
    "Q3. An e-commerce store stores information about its products in a nested dictionary. The outer dictionary uses product IDs as keys, and the inner dictionary stores product details like name, category, price, and stock quantity.\n",
    "products = { 101: {\"name\": \"Laptop\", \"category\": \"Electronics\", \"price\": 1200, \"stock\": 50}, 102: {\"name\": \"Shirt\", \"category\": \"Apparel\", \"price\": 25, \"stock\": 200}, 103: {\"name\": \"Coffee Maker\", \"category\": \"Home Appliances\", \"price\": 80, \"stock\": 30} }\n",
    "\n",
    "\n",
    "•\tIncrease the stock of the \"Shirt\" product (add 50 more units)\n",
    "\n",
    "•\tAdd a new product (e.g., \"Smartphone\")\n"
   ]
  },
  {
   "cell_type": "code",
   "execution_count": 53,
   "id": "0ea8c85e-444e-4cfd-8f0e-554517ac2804",
   "metadata": {},
   "outputs": [
    {
     "name": "stdout",
     "output_type": "stream",
     "text": [
      "{101: {'name': 'Laptop', 'category': 'Electronics', 'price': 1200, 'stock': 50}, 102: {'name': 'Shirt', 'category': 'Apparel', 'price': 25, 'stock': 250}, 103: {'name': 'Coffee Maker', 'category': 'Home Appliances', 'price': 80, 'stock': 30}}\n",
      "{101: {'name': 'Laptop', 'category': 'Electronics', 'price': 1200, 'stock': 50}, 102: {'name': 'Shirt', 'category': 'Apparel', 'price': 25, 'stock': 250}, 103: {'name': 'Coffee Maker', 'category': 'Home Appliances', 'price': 80, 'stock': 30}, 104: {'name': 'Smartphone', 'category': 'Electronics', 'price': 800, 'stock': 100}}\n"
     ]
    }
   ],
   "source": [
    "products = { \n",
    "    101: {\"name\": \"Laptop\", \"category\": \"Electronics\", \"price\": 1200, \"stock\": 50}, \n",
    "    102: {\"name\": \"Shirt\", \"category\": \"Apparel\", \"price\": 25, \"stock\": 200}, \n",
    "    103: {\"name\": \"Coffee Maker\", \"category\": \"Home Appliances\", \"price\": 80, \"stock\": 30} \n",
    "}\n",
    "\n",
    "# 1\n",
    "products[102][\"stock\"] += 50\n",
    "print(products)\n",
    "\n",
    "# 2\n",
    "products[104] = {\"name\": \"Smartphone\", \"category\": \"Electronics\", \"price\": 800, \"stock\": 100}\n",
    "print(products)\n"
   ]
  },
  {
   "cell_type": "markdown",
   "id": "b5495250-aaba-4a8d-91dc-3b5c5359560c",
   "metadata": {},
   "source": [
    "Q4. You are given a list that contains some duplicate items. Remove the duplicates by converting the list to a set.\n",
    "\n",
    "shopping_list = [\"apple\", \"banana\", \"apple\", \"orange\", \"banana\", \"grape\"]\n"
   ]
  },
  {
   "cell_type": "code",
   "execution_count": 51,
   "id": "c44bab5d-19fb-43a5-a7cc-f2fdf6fabc60",
   "metadata": {},
   "outputs": [
    {
     "name": "stdout",
     "output_type": "stream",
     "text": [
      "Original shopping list: ['apple', 'banana', 'apple', 'orange', 'banana', 'grape']\n",
      "Shopping list without duplicates: ['banana', 'apple', 'orange', 'grape']\n"
     ]
    }
   ],
   "source": [
    "shopping_list = [\"apple\", \"banana\", \"apple\", \"orange\", \"banana\", \"grape\"]\n",
    "unique_items = set(shopping_list)\n",
    "unique_shopping_list = list(unique_items)\n",
    "print(\"Original shopping list:\", shopping_list) \n",
    "print(\"Shopping list without duplicates:\", unique_shopping_list)\n"
   ]
  },
  {
   "cell_type": "markdown",
   "id": "4a5c42fc-fdab-4b02-a90e-e5599372a17e",
   "metadata": {},
   "source": [
    "Q5. You are managing a list of students enrolled in two different courses. You need to perform various set operations to understand the student enrollment. Task: Create two sets: one for students in \"Course A\" and one for students in \"Course B\". Find the students who are in \"Course A\" but not in \"Course B\" (difference). Find students who are only in one of the two courses (symmetric difference). course_a = {\"John\", \"Alice\", \"Bob\", \"David\"} course_b = {\"Alice\", \"Eve\", \"Charlie\", \"David\"}\n",
    "\n",
    "•\tFind students who are in Course A but not in Course B (difference)\n",
    "\n",
    "•\tFind students who are only in one of the two courses (symmetric difference)\n"
   ]
  },
  {
   "cell_type": "code",
   "execution_count": 54,
   "id": "ed042ef0-8fd1-495d-b917-c609b9e3a441",
   "metadata": {},
   "outputs": [
    {
     "name": "stdout",
     "output_type": "stream",
     "text": [
      "Students in Course A but not in Course B: {'John', 'Bob'}\n",
      "Students only in one of the two courses: {'John', 'Eve', 'Charlie', 'Bob'}\n"
     ]
    }
   ],
   "source": [
    "course_a = {\"John\", \"Alice\", \"Bob\", \"David\"}\n",
    "course_b = {\"Alice\", \"Eve\", \"Charlie\", \"David\"}\n",
    "\n",
    "\n",
    "# 1\n",
    "difference_students = course_a - course_b \n",
    "print(\"Students in Course A but not in Course B:\", difference_students)\n",
    "\n",
    "# 2\n",
    "symmetric_difference_students = course_a ^ course_b \n",
    "print(\"Students only in one of the two courses:\", symmetric_difference_students)"
   ]
  },
  {
   "cell_type": "markdown",
   "id": "d456bfad-b5a0-4f27-a1e8-2bcba0dbb52e",
   "metadata": {},
   "source": [
    "Q6. Write a Python program that calculates the sum of all even numbers between 1 and 50 (inclusive) using a for loop.\n",
    "\n",
    "Hint\n",
    "\n",
    "1.\tInitialize a variable to hold the sum (e.g., sum_of_evens).\n",
    "2.\tUse a for loop to iterate through all numbers from 1 to 50.\n",
    "3.\tInside the loop, check if the number is even.\n",
    "4.\tIf the number is even, add it to sum_of_evens.\n",
    "5.\tAfter the loop finishes, print the total sum of all even numbers between 1 and 50.\n"
   ]
  },
  {
   "cell_type": "code",
   "execution_count": 24,
   "id": "f8f9f7f3-e2ba-46c8-b6c7-eb3afbafdf3b",
   "metadata": {},
   "outputs": [
    {
     "name": "stdout",
     "output_type": "stream",
     "text": [
      "The sum of even numbers between 1 and 50 is: 650\n"
     ]
    }
   ],
   "source": [
    "sum_of_evens = 0\n",
    "for number in range(1, 51):\n",
    "    if number % 2 == 0:\n",
    "        sum_of_evens += number \n",
    "print(\"The sum of even numbers between 1 and 50 is:\", sum_of_evens)\n"
   ]
  },
  {
   "cell_type": "markdown",
   "id": "35b7f41c-fdcd-4105-8f3d-e2e70e3e1d19",
   "metadata": {},
   "source": [
    "Q7. Write a Python program that prints the multiplication table for a given number (between 1 and 10) using a for loop.\n",
    "\n",
    "Hint:\n",
    "\n",
    "1.\tAsk the user for a number between 1 and 10 .\n",
    "2.\tUse a for loop to iterate through the numbers from 1 to 10.\n",
    "3.\tFor each iteration, calculate the product of the given number and the current number in the loop.\n",
    "4.\tPrint the result in a readable format (e.g., 5 x 1 = 5).\n",
    "5.\tEnsure the program works correctly for any number between 1 and 10.\n",
    "\n",
    "Output Hint:\n",
    "\n",
    "- 4 x 1 = 4\n",
    "- 4 x 2 = 8\n",
    "- 4 x 3 = 12\n",
    "- 4 x 4 = 16\n",
    "- 4 x 5 = 20\n",
    "- 4 x 6 = 24\n",
    "- 4 x 7 = 28\n",
    "- 4 x 8 = 32\n",
    "- 4 x 9 = 36\n",
    "- 4 x 10 = 40\n"
   ]
  },
  {
   "cell_type": "code",
   "execution_count": 27,
   "id": "d18ee728-0212-4fbc-8405-2fbf41649a07",
   "metadata": {},
   "outputs": [
    {
     "name": "stdin",
     "output_type": "stream",
     "text": [
      "Enter a number between 1 and 10:  4\n"
     ]
    },
    {
     "name": "stdout",
     "output_type": "stream",
     "text": [
      "Multiplication Table for 4:\n",
      "4 x 1 = 4\n",
      "4 x 2 = 8\n",
      "4 x 3 = 12\n",
      "4 x 4 = 16\n",
      "4 x 5 = 20\n",
      "4 x 6 = 24\n",
      "4 x 7 = 28\n",
      "4 x 8 = 32\n",
      "4 x 9 = 36\n",
      "4 x 10 = 40\n"
     ]
    }
   ],
   "source": [
    "number = int(input(\"Enter a number between 1 and 10: \"))\n",
    "if 1 <= number <= 10:\n",
    "    print(f\"Multiplication Table for {number}:\")\n",
    "    for i in range(1, 11):\n",
    "        print(f\"{number} x {i} = {number * i}\")\n",
    "else:\n",
    "    print(\"Please enter a number between 1 and 10.\")\n"
   ]
  },
  {
   "cell_type": "markdown",
   "id": "83ab2ed3-5faa-408c-8880-cc966a2380f5",
   "metadata": {},
   "source": [
    "Q8. Power of a Number\n",
    "Write a Python program that takes a number and prints the powers of the number (starting from 1 to 10) using a while loop. For example, if the user inputs 3, the output should be:\n",
    "\n",
    "3^1 = 3\n",
    "\n",
    "3^2 = 9\n",
    "\n",
    "3^3 = 27\n",
    "\n",
    "... up to 3^10.\n"
   ]
  },
  {
   "cell_type": "code",
   "execution_count": 28,
   "id": "b9e7ab64-65ea-436d-af96-5b5053ebd4d8",
   "metadata": {},
   "outputs": [
    {
     "name": "stdin",
     "output_type": "stream",
     "text": [
      "Enter a number:  22\n"
     ]
    },
    {
     "name": "stdout",
     "output_type": "stream",
     "text": [
      "22^1 = 22\n",
      "22^2 = 484\n",
      "22^3 = 10648\n",
      "22^4 = 234256\n",
      "22^5 = 5153632\n",
      "22^6 = 113379904\n",
      "22^7 = 2494357888\n",
      "22^8 = 54875873536\n",
      "22^9 = 1207269217792\n",
      "22^10 = 26559922791424\n"
     ]
    }
   ],
   "source": [
    "number = int(input(\"Enter a number: \"))\n",
    "i = 1\n",
    "while i <= 10:\n",
    "    power = number ** i\n",
    "    print(f\"{number}^{i} = {power}\")\n",
    "    i += 1\n"
   ]
  },
  {
   "cell_type": "markdown",
   "id": "6a086954-f7fb-4012-bb02-78adffacc366",
   "metadata": {},
   "source": [
    "Q9.  Problem Statement: Write a Python program that takes an integer input from the user and counts down from that number to 0. The program should display the current number at each step until it reaches 0, at which point it should print a message indicating the countdown is finished\n",
    "\n",
    "Output Hint:\n",
    "\n",
    "Enter a number to start the countdown:  3\n",
    "- 3\n",
    "- 2\n",
    "- 1\n",
    "- 0\n",
    "- Countdown finished!"
   ]
  },
  {
   "cell_type": "code",
   "execution_count": 30,
   "id": "7014bb19-a4da-4c7f-8110-6df231a9ccd5",
   "metadata": {},
   "outputs": [
    {
     "name": "stdin",
     "output_type": "stream",
     "text": [
      "Enter a number to start the countdown:  3\n"
     ]
    },
    {
     "name": "stdout",
     "output_type": "stream",
     "text": [
      "3\n",
      "2\n",
      "1\n",
      "0\n",
      "Countdown finished!\n"
     ]
    }
   ],
   "source": [
    "n = int(input(\"Enter a number to start the countdown: \"))\n",
    "while n >= 0:\n",
    "    print(n)\n",
    "    n -= 1 \n",
    "print(\"Countdown finished!\")\n",
    "\n"
   ]
  },
  {
   "cell_type": "markdown",
   "id": "4ddb6504-4a44-4279-b5e9-fd71d6a941b0",
   "metadata": {},
   "source": [
    "Q10. Write a Python program that takes an integer input n from the user and generates a right-angled triangle pattern of stars (*) with n rows. The first row should contain 1 star, the second row 2 stars, the third row 3 stars, and so on until the nth row.\n",
    "Ensure the stars in each row are separated by spaces, and each row starts on a new line.\n"
   ]
  },
  {
   "cell_type": "code",
   "execution_count": null,
   "id": "b9c33573-693c-4de5-8bb3-e56818ca05be",
   "metadata": {},
   "outputs": [],
   "source": [
    "# Pattern:\n",
    "*\n",
    "**\n",
    "***\n",
    "****\n",
    "*****"
   ]
  },
  {
   "cell_type": "code",
   "execution_count": 31,
   "id": "07c34f71-f52a-451a-97f0-ed01bf929940",
   "metadata": {},
   "outputs": [
    {
     "name": "stdin",
     "output_type": "stream",
     "text": [
      "Enter the number of rows:  33\n"
     ]
    },
    {
     "name": "stdout",
     "output_type": "stream",
     "text": [
      "* \n",
      "* * \n",
      "* * * \n",
      "* * * * \n",
      "* * * * * \n",
      "* * * * * * \n",
      "* * * * * * * \n",
      "* * * * * * * * \n",
      "* * * * * * * * * \n",
      "* * * * * * * * * * \n",
      "* * * * * * * * * * * \n",
      "* * * * * * * * * * * * \n",
      "* * * * * * * * * * * * * \n",
      "* * * * * * * * * * * * * * \n",
      "* * * * * * * * * * * * * * * \n",
      "* * * * * * * * * * * * * * * * \n",
      "* * * * * * * * * * * * * * * * * \n",
      "* * * * * * * * * * * * * * * * * * \n",
      "* * * * * * * * * * * * * * * * * * * \n",
      "* * * * * * * * * * * * * * * * * * * * \n",
      "* * * * * * * * * * * * * * * * * * * * * \n",
      "* * * * * * * * * * * * * * * * * * * * * * \n",
      "* * * * * * * * * * * * * * * * * * * * * * * \n",
      "* * * * * * * * * * * * * * * * * * * * * * * * \n",
      "* * * * * * * * * * * * * * * * * * * * * * * * * \n",
      "* * * * * * * * * * * * * * * * * * * * * * * * * * \n",
      "* * * * * * * * * * * * * * * * * * * * * * * * * * * \n",
      "* * * * * * * * * * * * * * * * * * * * * * * * * * * * \n",
      "* * * * * * * * * * * * * * * * * * * * * * * * * * * * * \n",
      "* * * * * * * * * * * * * * * * * * * * * * * * * * * * * * \n",
      "* * * * * * * * * * * * * * * * * * * * * * * * * * * * * * * \n",
      "* * * * * * * * * * * * * * * * * * * * * * * * * * * * * * * * \n",
      "* * * * * * * * * * * * * * * * * * * * * * * * * * * * * * * * * \n"
     ]
    }
   ],
   "source": [
    "n = int(input(\"Enter the number of rows: \"))\n",
    "for i in range(1, n + 1):  \n",
    "    for j in range(i):\n",
    "        print(\"*\", end=\" \") \n",
    "    print() \n"
   ]
  },
  {
   "cell_type": "code",
   "execution_count": null,
   "id": "d5648a98-4945-4015-b091-900a302bd6fc",
   "metadata": {},
   "outputs": [],
   "source": []
  }
 ],
 "metadata": {
  "kernelspec": {
   "display_name": "Python 3 (ipykernel)",
   "language": "python",
   "name": "python3"
  },
  "language_info": {
   "codemirror_mode": {
    "name": "ipython",
    "version": 3
   },
   "file_extension": ".py",
   "mimetype": "text/x-python",
   "name": "python",
   "nbconvert_exporter": "python",
   "pygments_lexer": "ipython3",
   "version": "3.12.7"
  }
 },
 "nbformat": 4,
 "nbformat_minor": 5
}
