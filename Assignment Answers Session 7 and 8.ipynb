{
 "cells": [
  {
   "cell_type": "markdown",
   "id": "404fb72c-231a-45b8-9cbe-9cac60a8a051",
   "metadata": {},
   "source": [
    "Q1. Write program to check a person’s eligibility for a loan based on age, credit score, and income. This time, the eligibility criteria will be:\n",
    "\n",
    "The person must be 18 years or older.\n",
    "The person must have a credit score of 650 or higher.\n",
    "The person must have an annual income of at least 30000 dollars\n",
    "If the person has a credit score of 700 or higher, they may still be eligible with an income of 25000 dollars or more."
   ]
  },
  {
   "cell_type": "code",
   "execution_count": null,
   "id": "b5f9eade-810b-4d79-91b3-f0cf020d940b",
   "metadata": {},
   "outputs": [],
   "source": [
    "age = int(input(\"Enter your age: \"))\n",
    "credit_score = int(input(\"Enter your credit score: \"))\n",
    "income = float(input(\"Enter your annual income: $\"))\n",
    "\n",
    "\n",
    "if age >= 18:\n",
    "    if credit_score >= 650:\n",
    "        if income >= 30000:\n",
    "            print(\"You are eligible for the loan!\")\n",
    "        elif credit_score >= 700 and income >= 25000:\n",
    "            print(\"You are eligible for the loan due to your high credit score.\")\n",
    "        else:\n",
    "            print(\"You are not eligible for the loan due to insufficient income.\")\n",
    "    else:\n",
    "        print(\"You are not eligible for the loan due to low credit score.\")\n",
    "else:\n",
    "    print(\"You are not eligible for the loan due to age.\")\n"
   ]
  },
  {
   "cell_type": "markdown",
   "id": "8512dd72-9208-477d-820b-4c2883d55423",
   "metadata": {},
   "source": [
    "Q2. Write a Python program that checks if a person is an adult (age ≥ 18).\n",
    "\n",
    "Take the age as input.\n",
    "If the person is underage (age < 18), show message: \"You are underage\" and don't ask for experience.\n",
    "\n",
    "If the person is an adult, take years of experience as input and print:\n",
    "\"You have a lot of experience.\" (10+ years)\n",
    "\"You have moderate experience.\" (5-9 years)\n",
    "\"You are relatively new.\" (2-4 years)\n",
    "\"You are just starting out.\" (less than 2 years)"
   ]
  },
  {
   "cell_type": "code",
   "execution_count": null,
   "id": "890f9b51-ec6f-465a-b5de-7eb7b1e961c8",
   "metadata": {},
   "outputs": [],
   "source": [
    "age = int(input(\"Enter your age: \"))\n",
    "\n",
    "if age < 18:\n",
    "    print(\"You are underage.\")\n",
    "else:\n",
    "    years_of_experience = int(input(\"Enter your years of experience: \"))\n",
    "    if years_of_experience >= 10:\n",
    "        print(\"You have a lot of experience in your field.\")\n",
    "    elif years_of_experience >= 5:\n",
    "        print(\"You have moderate experience in your field.\")\n",
    "    elif years_of_experience >= 2:\n",
    "        print(\"You are relatively new, but gaining experience.\")\n",
    "    else:\n",
    "        print(\"You are just starting out with little experience.\")"
   ]
  },
  {
   "cell_type": "markdown",
   "id": "a3416491-693a-4c89-b31d-f8b2b5a4cbd8",
   "metadata": {},
   "source": [
    "Q3. Write a program to explore below variables\n",
    "\n",
    "a) Print their memory address (to check if python assigns same address of different variables having same element)\n",
    "\n",
    "b) Find memory size and append them in a list, use this list to find data type having least memory size\n",
    "\n",
    "c) Print final name of data type which has lowest memory\n",
    "\n",
    "Result will help a programmer to decide which variable is storing less memory and variable locations"
   ]
  },
  {
   "cell_type": "code",
   "execution_count": null,
   "id": "90aa6549-5374-4224-a312-59187be4b42f",
   "metadata": {},
   "outputs": [],
   "source": [
    "import sys\n",
    "\n",
    "a = 222\n",
    "b = \"222\"\n",
    "c = [222]\n",
    "d = []\n",
    "\n",
    "#memory address\n",
    "print(\"Memory address\")\n",
    "print(id(a))\n",
    "print(id(b))\n",
    "print(id(c))\n",
    "\n",
    "#memory size\n",
    "x = (sys.getsizeof(a))\n",
    "d.append(x)\n",
    "\n",
    "y = (sys.getsizeof(b))\n",
    "d.append(y)\n",
    "\n",
    "z = (sys.getsizeof(c))\n",
    "d.append(z)\n",
    "\n",
    "u = type(min(d))\n",
    "print(u, \"has lowest memory size which is\",min(d),\"bytes\")"
   ]
  },
  {
   "cell_type": "markdown",
   "id": "cec9f7ef-72b3-48c4-8b4b-b2443c23361f",
   "metadata": {},
   "source": [
    "Q4. Write a Python program that asks the user to enter an email address. The program should check if the email contains the characters @ and \".\" (ignoring case). If either character is present, print \"Email format is valid.\" Otherwise, print \"Invalid email format.\""
   ]
  },
  {
   "cell_type": "code",
   "execution_count": null,
   "id": "94a4b8cf-eb7f-40ab-9e32-3501a3e92eb6",
   "metadata": {},
   "outputs": [],
   "source": [
    "user = input(\"Enter Email: \").lower()\n",
    "\n",
    "if '@' in user and '.' in user:\n",
    "    print(\"Email format is valid\")\n",
    "else:\n",
    "    print(\"Invalid email format\")\n"
   ]
  },
  {
   "cell_type": "markdown",
   "id": "1e4a08a8-0825-432e-9c6f-4e8608a6b258",
   "metadata": {},
   "source": [
    "Q5. Write a python program to know data type of each element stored in a tuple, append the data types in a list. Show final output in a list as data types of tuple elements\n",
    "\n",
    "### x = (11,22.333,'apple',[1,2,3],('a','b'))"
   ]
  },
  {
   "cell_type": "code",
   "execution_count": null,
   "id": "3071d665-e66f-4e49-a445-05e788f457a7",
   "metadata": {},
   "outputs": [],
   "source": [
    "x = (11,22.333,'apple',[1,2,3],('a','b'))\n",
    "y = []\n",
    "\n",
    "a = type(x[0])\n",
    "y.append(a)\n",
    "\n",
    "d = type(x[1])\n",
    "y.append(d)\n",
    "\n",
    "k = type(x[2])\n",
    "y.append(k)\n",
    "\n",
    "b = type(x[3])\n",
    "y.append(b)\n",
    "\n",
    "c = type(x[4])\n",
    "y.append(c)\n",
    "y"
   ]
  },
  {
   "cell_type": "markdown",
   "id": "4606bf90-b5f9-4ce5-87f4-2aac973472ef",
   "metadata": {},
   "source": [
    "Q6. Write a Python program that:\n",
    "\n",
    "Checks if a given username exists in a list of active users.\n",
    "Verifies if the user is the admin using identity operators.\n",
    "\n",
    "Hints:\n",
    "\n",
    "Combnation of below will be used:\n",
    "\n",
    "*Identity operators\n",
    "\n",
    "*Membership operators\n",
    "\n",
    "*Tuple\n",
    "\n",
    "Use a list of tuples where each tuple contains a username and role\n",
    "\n",
    "[(\"alice\", \"admin\"),\n",
    "(\"bob\", \"user\"),\n",
    "(\"charlie\", \"moderator\")]\n",
    "\n",
    "Use the in operator to check if the username exists in the list.\n",
    "Use the is operator to check if the user is the admin (admin is a specific reference, e.g., (\"alice\", \"admin\"))."
   ]
  },
  {
   "cell_type": "code",
   "execution_count": null,
   "id": "b2786b2a-fc02-468e-ac14-86262d7fbd19",
   "metadata": {},
   "outputs": [],
   "source": [
    "active_users = [(\"alice\", \"admin\"), (\"bob\", \"user\"), (\"charlie\", \"moderator\")]\n",
    "\n",
    "admin_user = (\"alice\", \"admin\")\n",
    "\n",
    "user_input = input(\"Enter username to check: \")\n",
    "\n",
    "user_exists = (user_input, \"admin\") in active_users or (user_input, \"user\") in active_users or (user_input, \"moderator\") in active_users\n",
    "\n",
    "if user_exists:\n",
    "    if (user_input, \"admin\") is admin_user:\n",
    "        print(user_input + \" is the admin.\")\n",
    "    else:\n",
    "        print(user_input + \" is a regular user.\")\n",
    "else:\n",
    "    print(\"User '\" + user_input + \"' is not in the active users list.\")\n"
   ]
  },
  {
   "cell_type": "markdown",
   "id": "eb343641-aff5-4ac1-9db5-5a824012cba0",
   "metadata": {},
   "source": [
    "Q7. person1 has same family as of person2, write a program to print relation between person1 and person2, if their data is ['father name','mother name','district','family number'] same (Print relation 'Siblings') also check person1 data with person3 which is cousin of person1 (Print relation 'Cousin').\n",
    "\n",
    "First check for person1 and person3 then person1 and person2\n",
    "\n",
    "Hint:\n",
    "\n",
    "Use identity operator"
   ]
  },
  {
   "cell_type": "code",
   "execution_count": null,
   "id": "f2656e30-c953-4cd6-b6e3-10733f186ebf",
   "metadata": {},
   "outputs": [],
   "source": [
    "person1 = ['father name','mother name','district','family number'] \n",
    "person2 = person1\n",
    "person3 = ['father name','mother name','district','family number'] \n",
    "\n",
    "if person1 is person3:\n",
    "    print('Cousins')\n",
    "elif person1 is person2:\n",
    "    print('Siblings')\n",
    "else:\n",
    "    print('Error')\n"
   ]
  },
  {
   "cell_type": "markdown",
   "id": "6c0f26a7-175c-47c2-99b4-072d4a51c8b0",
   "metadata": {},
   "source": [
    "Q8. Write a Python program to store and display a book's title, author, year of publication, and price using a tuple.\n",
    "\n",
    "Instructions:\n",
    "\n",
    "Create a tuple to store the book details.\n",
    "\n",
    "Ask the user for the book's title, author, year, and price.\n",
    "\n",
    "Display the stored book information."
   ]
  },
  {
   "cell_type": "code",
   "execution_count": null,
   "id": "bb17bbe6-3d52-4824-b575-e7a577b87586",
   "metadata": {},
   "outputs": [],
   "source": [
    "title = input(\"Enter the book title: \")\n",
    "author = input(\"Enter the author's name: \")\n",
    "year = int(input(\"Enter the year of publication: \"))\n",
    "price = float(input(\"Enter the price of the book: \"))\n",
    "\n",
    "book_details = (title, author, year, price)\n",
    "\n",
    "print(\"Book Details:\")\n",
    "print(\"Title: \" + book_details[0])\n",
    "print(\"Author: \" + book_details[1])\n",
    "print(\"Year of Publication: \" + str(book_details[2]))\n",
    "print(\"Price: $\" + str(book_details[3]))\n"
   ]
  },
  {
   "cell_type": "markdown",
   "id": "b8b0e4bf-68a6-4422-9ed4-21c8826e2742",
   "metadata": {},
   "source": [
    "Q9. Write a program to check if a user’s chosen subject is available in the list of offered subjects.\n",
    "\n",
    "Instructions:\n",
    "\n",
    "Given a list of subjects, ask the user to input a subject.\n",
    "\n",
    "Display whether the subject is available or not."
   ]
  },
  {
   "cell_type": "code",
   "execution_count": null,
   "id": "03e32a90-57ac-4782-a619-8f8ae5835ad2",
   "metadata": {},
   "outputs": [],
   "source": [
    "offered_subjects = [\"math\", \"science\", \"english\", \"history\", \"art\"]\n",
    "\n",
    "subject = input(\"Enter the subject you are interested in: \").lower()\n",
    "\n",
    "if subject in offered_subjects:\n",
    "    print(subject + \" is available.\")\n",
    "else:\n",
    "    print(subject + \" is not available.\")"
   ]
  },
  {
   "cell_type": "markdown",
   "id": "587d3ff4-59b6-4911-b153-be099333ef15",
   "metadata": {},
   "source": [
    "Q10. Write a Python program that asks the user to enter the current temperature in Celsius and checks whether it's freezing, normal, or hot based on predefined temperature values.\"\n",
    "\n",
    "Assignment Requirements:\n",
    "\n",
    "Input: The user will be asked to enter the current temperature in Celsius.\n",
    "\n",
    "Predefined values:\n",
    "\n",
    "Freezing: -5\n",
    "\n",
    "Normal: 25\n",
    "\n",
    "Hot: 40"
   ]
  },
  {
   "cell_type": "code",
   "execution_count": null,
   "id": "d8a84e83-2f84-4ec7-9996-7b42933af992",
   "metadata": {},
   "outputs": [],
   "source": [
    "freezing = -5\n",
    "normal = 25\n",
    "hot = 40\n",
    "\n",
    "temperature = int(input(\"Enter the current temperature (in Celsius): \"))\n",
    "\n",
    "if temperature is freezing:\n",
    "    print(\"It's freezing!\")\n",
    "elif temperature is normal:\n",
    "    print(\"It's a normal temperature.\")\n",
    "elif temperature is hot:\n",
    "    print(\"It's hot!\")\n",
    "else:\n",
    "    print(\"The temperature is outside the predefined values.\")"
   ]
  },
  {
   "cell_type": "code",
   "execution_count": null,
   "id": "2b97f75a-1b09-40bd-826c-9aeaf013ef75",
   "metadata": {},
   "outputs": [],
   "source": []
  }
 ],
 "metadata": {
  "kernelspec": {
   "display_name": "Python 3 (ipykernel)",
   "language": "python",
   "name": "python3"
  },
  "language_info": {
   "codemirror_mode": {
    "name": "ipython",
    "version": 3
   },
   "file_extension": ".py",
   "mimetype": "text/x-python",
   "name": "python",
   "nbconvert_exporter": "python",
   "pygments_lexer": "ipython3",
   "version": "3.12.7"
  }
 },
 "nbformat": 4,
 "nbformat_minor": 5
}
