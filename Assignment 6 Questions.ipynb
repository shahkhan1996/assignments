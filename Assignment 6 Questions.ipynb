{
 "cells": [
  {
   "cell_type": "markdown",
   "id": "4bdce7af-cdaf-461c-a7bd-a2834e979d5c",
   "metadata": {},
   "source": [
    "1. Write a Python class named Book with the following attributes:\n",
    "\n",
    "- title (string)\n",
    "- author (string)\n",
    "- price (float)\n",
    "- stock (integer)\n",
    "\n",
    "The class should have the following methods:\n",
    "\n",
    "- A constructor to initialize the book's details.\n",
    "- A method update_stock(count) that updates the stock based on the provided count (positive for addition, negative for subtraction).\n",
    "- A method discount(price_percentage) that applies a discount to the price.\n",
    "- A method display_info() to display the book's information.\n",
    "\n",
    "Question: Write a Python program to:\n",
    "\n",
    "Create a book instance.\n",
    "\n",
    "- Update its stock and display updated information.\n",
    "- Apply a discount and display the new price.\n",
    "\n",
    "Expected Output:\n",
    "\n",
    "- Title: Python Programming\n",
    "- Author: John Doe\n",
    "- Price: 50\n",
    "- Stock: 100\n",
    "- Stock updated. New stock: 110\n",
    "- Price after discount: 40.0\n",
    "- Title: Python Programming\n",
    "- Author: John Doe\n",
    "- Price: 40.0\n",
    "- Stock: 110\n"
   ]
  },
  {
   "cell_type": "markdown",
   "id": "d87ac2e7-8041-48c6-aa52-47ddd2cb0330",
   "metadata": {},
   "source": [
    "2. Question:\n",
    "\n",
    "Imagine a scenario where we have two classes:\n",
    "\n",
    "Person: Represents a person with attributes like name and age, and a method introduce() to introduce the person.\n",
    "\n",
    "Employee: Represents an employee with attributes like employee_id and department, and a method work() to describe the work of the employee.\n",
    "\n",
    "Create a child class Manager that inherits from both Person and Employee. The Manager class should have a method manage() that describes the work the manager does. Instantiate a Manager object and call all methods (introduce(), work(), and manage()).\n",
    "\n",
    "Expected Output:\n",
    "\n",
    "- Hello, my name is John and I am 35 years old.\n",
    "- Employee M123 is working in HR department.\n",
    "- Manager John is managing the team in the HR department.\n"
   ]
  },
  {
   "cell_type": "markdown",
   "id": "bdf0dc26-ebdc-4cf4-bb11-3f0b45757c3c",
   "metadata": {},
   "source": [
    "3. Question:\n",
    "\n",
    "In a transportation system, we have two classes:\n",
    "\n",
    "- ElectricVehicle: A class that has a method charge() to charge the vehicle.\n",
    "\n",
    "- GasolineVehicle: A class that has a method fuel_up() to refuel the vehicle.\n",
    "\n",
    "Create a class HybridCar that inherits from both ElectricVehicle and GasolineVehicle. The HybridCar class should have a method drive() that prints a message showing the car is being driven. Instantiate an object of class HybridCar and demonstrate the usage of charge(), fuel_up(), and drive().\n",
    "\n",
    "Expected Output:\n",
    "\n",
    "- Charging the electric vehicle.\n",
    "- Filling up the gasoline tank.\n",
    "- Driving the hybrid car.\n"
   ]
  },
  {
   "cell_type": "markdown",
   "id": "26d74543-af04-405e-90f4-242f5113c9b2",
   "metadata": {},
   "source": [
    "4. Question:\n",
    "\n",
    "Create a class Animal with a method make_sound(), which prints \"Animal makes a sound\". Then, create two subclasses:\n",
    "\n",
    "- Lion: Override the make_sound() method to print \"Roar\".\n",
    "- Cat: Override the make_sound() method to print \"Meow\".\n",
    "\n",
    "Demonstrate polymorphism by calling make_sound() on instances of Lion and Cat."
   ]
  },
  {
   "cell_type": "markdown",
   "id": "4a896d59-313a-41eb-8f81-cb1af3dfb8f1",
   "metadata": {},
   "source": [
    "5. Create a class Greeting with a method greet() that can handle different numbers of arguments.\n",
    "\n",
    "- If no argument is passed, it should print \"Hello!\".\n",
    "- If one argument (a name) is passed, it should print \"Hello, <name>!\".\n",
    "- If two arguments (a name and a greeting) are passed, it should print the greeting with the name (e.g., \"Good morning, <name>!\").\n",
    "\n",
    "Simulate method overloading using default arguments or variable-length arguments, and demonstrate the polymorphic behavior by calling greet() with different numbers of arguments.\n",
    "\n",
    "Expected Output:\n",
    "\n",
    "- Hello!\n",
    "- Hello, John!\n",
    "- Good morning, John!\n"
   ]
  },
  {
   "cell_type": "markdown",
   "id": "661ef0b0-c1ee-4940-b92a-f0eb6c8774c8",
   "metadata": {},
   "source": [
    "6. Create a class CarRental to manage the rental of cars.\n",
    "\n",
    "- The class should have private attributes for the car's name, price per day, and the number of rental days.\n",
    "- Create a method to calculate the total rental cost and a method to set the rental days.\n",
    "- Use getter and setter methods for modifying and accessing the car's information.\n",
    "\n",
    "Demonstrate encapsulation by creating an object of CarRental and calculating the total rental cost.\n",
    "\n",
    "Expected Output:\n",
    "\n",
    "- Car Name: Toyota Camry\n",
    "- Price Per Day: $50\n",
    "\n",
    "- Rental Days: 5\n",
    "\n",
    "- Total Rental Cost: $250\n"
   ]
  },
  {
   "cell_type": "markdown",
   "id": "f1a4787e-750f-4ad1-b4ba-75ec1bb81e3e",
   "metadata": {},
   "source": [
    "7. Create a class SecuritySystem to manage a Security PIN. The class should have:\n",
    "\n",
    "- A private attribute __pin to store the PIN.\n",
    "- A method validate_pin(pin) that checks if the input PIN matches the stored one.\n",
    "- A method change_pin(old_pin, new_pin) to allow the user to change their PIN. The method should:\n",
    "    - Ensure the old PIN is correct.\n",
    "    - Ensure the new PIN is a 4-digit number.\n",
    "\n",
    "Demonstrate the following:\n",
    "\n",
    "- Validate the PIN.\n",
    "- Change the PIN with correct and incorrect old PINs, and valid/invalid new PINs.\n",
    "\n",
    "Expected Output:\n",
    "\n",
    "- PIN validated successfully.\n",
    "- Invalid PIN.\n",
    "- PIN changed successfully.\n",
    "- New PIN must be a 4-digit number.\n",
    "- Incorrect old PIN. PIN not changed.\n"
   ]
  },
  {
   "cell_type": "markdown",
   "id": "dac58e05-da6b-4ab2-9c8d-d19f1e4b5170",
   "metadata": {},
   "source": [
    "8. Create an abstract class SmartHomeDevice with two abstract methods:\n",
    "\n",
    "- turn_on() (to turn the device on)\n",
    "- turn_off() (to turn the device off)\n",
    "\n",
    "Then, create a Light class that inherits from SmartHomeDevice. Implement the methods turn_on() and turn_off() for a light device. The turn_on() method should print \"Light is ON\", and the turn_off() method should print \"Light is OFF\".\n",
    "\n",
    "Write a Python program to control the light device in a smart home.\n",
    "\n",
    "Expected Output:\n",
    "\n",
    "- Turning on the light...\n",
    "- Light is ON\n",
    "- Turning off the light...\n",
    "- Light is OFF\n"
   ]
  },
  {
   "cell_type": "markdown",
   "id": "1c70c9fc-177c-4f0a-a63a-31725e52a6e8",
   "metadata": {},
   "source": [
    "9. Use abstraction to model different geometric shapes such as circle and rectangle.\n",
    "\n",
    "Instructions:\n",
    "\n",
    "- Create an abstract class Shape with a method area to calculate the area.\n",
    "- Create concrete classes Circle and Rectangle that implement the area method.\n",
    "- Create instances of these shapes and calculate their areas.\n",
    "\n",
    "Expected Output:\n",
    "\n",
    "- Area of Circle: 78.5\n",
    "- Area of Rectangle: 24\n"
   ]
  },
  {
   "cell_type": "markdown",
   "id": "1f25bad1-1da3-47a7-9a4d-7f2641bea2e6",
   "metadata": {},
   "source": [
    "10. Create a \"BankAccount\" Class\n",
    "\n",
    "Write a Python class named BankAccount that represents a bank account with the following attributes:\n",
    "\n",
    "- account_holder (string)\n",
    "- balance (float)\n",
    "\n",
    "The class should have the following methods:\n",
    "\n",
    "- A constructor to initialize the account holder and the balance.\n",
    "- A method deposit(amount) to deposit money into the account.\n",
    "- A method withdraw(amount) to withdraw money from the account (ensure the balance doesn't go below 0).\n",
    "- A method display_balance() to show the current balance.\n",
    "\n",
    "Question: Write a Python program to:\n",
    "\n",
    "- Create a bank account.\n",
    "- Deposit and withdraw some money.\n",
    "- Display the account's balance after each transaction\n",
    "\n",
    "Expected Output:\n",
    "\n",
    "- Balance: 1000\n",
    "- Deposited: 500. New balance: 1500\n",
    "- Withdrew: 300. New balance: 1200\n",
    "- Balance: 1200\n"
   ]
  },
  {
   "cell_type": "code",
   "execution_count": null,
   "id": "0904ca1c-8085-41eb-9f69-cfd1c2bf28cd",
   "metadata": {},
   "outputs": [],
   "source": []
  },
  {
   "cell_type": "code",
   "execution_count": null,
   "id": "72dd8a17-0478-4663-b550-bf86f8bdb297",
   "metadata": {},
   "outputs": [],
   "source": []
  }
 ],
 "metadata": {
  "kernelspec": {
   "display_name": "Python 3 (ipykernel)",
   "language": "python",
   "name": "python3"
  },
  "language_info": {
   "codemirror_mode": {
    "name": "ipython",
    "version": 3
   },
   "file_extension": ".py",
   "mimetype": "text/x-python",
   "name": "python",
   "nbconvert_exporter": "python",
   "pygments_lexer": "ipython3",
   "version": "3.12.7"
  }
 },
 "nbformat": 4,
 "nbformat_minor": 5
}
