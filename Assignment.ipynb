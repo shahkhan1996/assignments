{
 "cells": [
  {
   "cell_type": "markdown",
   "id": "369ebcad-5cc4-4fcd-93ba-5dc7f3250f8a",
   "metadata": {},
   "source": [
    "##### 1. Write a program that replaces spaces with underscores, counts how many underscores are there, and finds the position of the first underscore.\n",
    "\n",
    "Use text: \"I'm learning Python programming\""
   ]
  },
  {
   "cell_type": "code",
   "execution_count": 6,
   "id": "62382064-b4d5-4569-a140-f4bac69aed2a",
   "metadata": {},
   "outputs": [
    {
     "name": "stdout",
     "output_type": "stream",
     "text": [
      "Replaced text: I'm_learning_Python_programming.\n",
      "Number of underscores: 3\n",
      "First underscore at position: 3\n"
     ]
    }
   ],
   "source": [
    "text = \"I'm learning Python programming.\"\n",
    "\n",
    "replaced_text = text.replace(\" \", \"_\")\n",
    "\n",
    "underscore_count = replaced_text.count(\"_\")\n",
    "\n",
    "first_underscore = replaced_text.find(\"_\")\n",
    "\n",
    "print(\"Replaced text:\", replaced_text)\n",
    "print(\"Number of underscores:\", underscore_count)\n",
    "print(\"First underscore at position:\", first_underscore)\n"
   ]
  },
  {
   "cell_type": "markdown",
   "id": "231f786c-9c2c-4abc-84b2-045b99919900",
   "metadata": {},
   "source": [
    "##### 2. You are tasked with developing a mini app that processes user input to format and display a personalized greeting. The app will:\n",
    "\n",
    "Accept a string input from the user representing their full name (e.g., \"John Doe\").\n",
    "Extract the first name, last name, and the initials of both using string slicing and indexing.\n",
    "Display a greeting message that includes:\n",
    "The full name in title case (e.g., \"John Doe\").\n",
    "The first name and last name in uppercase.\n",
    "The initials of both the first and last name."
   ]
  },
  {
   "cell_type": "code",
   "execution_count": 3,
   "id": "4522479e-acf3-4e6c-a950-1f158adca4cf",
   "metadata": {},
   "outputs": [
    {
     "name": "stdin",
     "output_type": "stream",
     "text": [
      "Enter your full name:  Shahmir Khan\n"
     ]
    },
    {
     "name": "stdout",
     "output_type": "stream",
     "text": [
      "Full Name: Shahmir Khan\n",
      "First Name: SHAHMIR\n",
      "Last Name: KHAN\n",
      "Initials: S.K\n"
     ]
    }
   ],
   "source": [
    "full_name = input(\"Enter your full name: \")\n",
    "\n",
    "# slicing and indexing\n",
    "first_name = full_name[:full_name.index(\" \")]   # Extract first name\n",
    "last_name = full_name[full_name.index(\" \") + 1:]  # Extract last name\n",
    "\n",
    "print(\"Full Name: \" + full_name.title())\n",
    "print(\"First Name: \" + first_name.upper())\n",
    "print(\"Last Name: \" + last_name.upper())\n",
    "print(\"Initials: \" + first_name[0].upper() + \".\" + last_name[0].upper())\n"
   ]
  },
  {
   "cell_type": "markdown",
   "id": "99a25885-cf0c-46a1-aaa7-950df853ce38",
   "metadata": {},
   "source": [
    "#### 3. Given a sentence, you need to reverse the order of the words in the sentence while preserving their original capitalization and spaces.\n",
    "\n",
    "Use text : \"Hello World, We are learning Python\""
   ]
  },
  {
   "cell_type": "code",
   "execution_count": 16,
   "id": "45685048-8e59-41c0-acc9-0c68f51146f7",
   "metadata": {},
   "outputs": [
    {
     "name": "stdout",
     "output_type": "stream",
     "text": [
      "Python learning are We World, Hello\n"
     ]
    }
   ],
   "source": [
    "sentence = \"Hello World, We are learning Python\"\n",
    "\n",
    "words = sentence.split()\n",
    "\n",
    "reversed_sentence = \" \".join(words[::-1])\n",
    "\n",
    "print(reversed_sentence)\n"
   ]
  },
  {
   "cell_type": "markdown",
   "id": "528df634-9209-4452-a0e2-19d28fb4a9de",
   "metadata": {},
   "source": [
    "#### 4. You have a product code that follows the format \"SKU-12345-XYZ\". You need to:\n",
    "\n",
    "Remove the \"SKU-\" and the \"-XYZ\" from the product code.\n",
    "Extract and return the number"
   ]
  },
  {
   "cell_type": "code",
   "execution_count": 15,
   "id": "6c895173-6208-42af-9946-533cbf081f5c",
   "metadata": {},
   "outputs": [
    {
     "name": "stdout",
     "output_type": "stream",
     "text": [
      "12345\n"
     ]
    }
   ],
   "source": [
    "product_code = \"SKU-12345-XYZ\"\n",
    "\n",
    "product_number = product_code.removeprefix(\"SKU-\").removesuffix(\"-XYZ\")\n",
    "\n",
    "print(product_number)\n"
   ]
  },
  {
   "cell_type": "markdown",
   "id": "74956200-9534-4324-9d0e-46baee1ad331",
   "metadata": {},
   "source": [
    "#### 5.Write a Python program to check user password has following:\n",
    "\n",
    "Whether the string contains any uppercase characters.\n",
    "Whether the string contains any lowercase characters.\n",
    "Whether the string contains any spaces.\n",
    "Whether the string contains any special characters (anything other than letters, digits, and spaces)."
   ]
  },
  {
   "cell_type": "code",
   "execution_count": 35,
   "id": "c7c681b3-581a-4149-a9dc-e254ff67117b",
   "metadata": {},
   "outputs": [
    {
     "name": "stdin",
     "output_type": "stream",
     "text": [
      "Enter password:    Car 123\n"
     ]
    },
    {
     "name": "stdout",
     "output_type": "stream",
     "text": [
      "Uppercase characters used: True\n",
      "Lowercase characters used: True\n",
      "Spaces used: True\n",
      "Special characters used: False\n"
     ]
    }
   ],
   "source": [
    "text = input(\"Enter password: \")\n",
    "\n",
    "has_upper = text != text.lower()\n",
    "\n",
    "has_lower = text != text.upper()\n",
    "\n",
    "has_space = text.count(' ') > 0\n",
    "\n",
    "has_special = not text.replace(' ', '').isalnum()\n",
    "\n",
    "print(\"Uppercase characters used: \" + str(has_upper))\n",
    "print(\"Lowercase characters used: \" + str(has_lower))\n",
    "print(\"Spaces used: \" + str(has_space))\n",
    "print(\"Special characters used: \" + str(has_special))\n"
   ]
  },
  {
   "cell_type": "code",
   "execution_count": null,
   "id": "3af1747b-0f6b-4370-8271-28e64b0ac0a2",
   "metadata": {},
   "outputs": [],
   "source": []
  },
  {
   "cell_type": "code",
   "execution_count": null,
   "id": "b8de28dd-f68a-4119-9560-7bb1a9cfba28",
   "metadata": {},
   "outputs": [],
   "source": []
  },
  {
   "cell_type": "code",
   "execution_count": null,
   "id": "f5c4d2d0-25e6-4524-8871-30ce87bdeaac",
   "metadata": {},
   "outputs": [],
   "source": []
  },
  {
   "cell_type": "code",
   "execution_count": null,
   "id": "7a80c05e-3d36-4a97-a449-e7e97d74ac96",
   "metadata": {},
   "outputs": [],
   "source": []
  },
  {
   "cell_type": "code",
   "execution_count": null,
   "id": "ed3c00a0-c73a-44b6-b9f2-14d520c1d3ba",
   "metadata": {},
   "outputs": [],
   "source": []
  },
  {
   "cell_type": "code",
   "execution_count": null,
   "id": "28000759-7255-427e-9604-28b61774a2b8",
   "metadata": {},
   "outputs": [],
   "source": []
  },
  {
   "cell_type": "code",
   "execution_count": null,
   "id": "02d488a0-4852-4396-865c-132cf5ff83fe",
   "metadata": {},
   "outputs": [],
   "source": []
  },
  {
   "cell_type": "code",
   "execution_count": null,
   "id": "bd20fe24-41ac-4c39-a35f-606354887227",
   "metadata": {},
   "outputs": [],
   "source": []
  }
 ],
 "metadata": {
  "kernelspec": {
   "display_name": "Python 3 (ipykernel)",
   "language": "python",
   "name": "python3"
  },
  "language_info": {
   "codemirror_mode": {
    "name": "ipython",
    "version": 3
   },
   "file_extension": ".py",
   "mimetype": "text/x-python",
   "name": "python",
   "nbconvert_exporter": "python",
   "pygments_lexer": "ipython3",
   "version": "3.12.7"
  }
 },
 "nbformat": 4,
 "nbformat_minor": 5
}
