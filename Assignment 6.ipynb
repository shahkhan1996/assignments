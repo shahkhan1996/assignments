{
 "cells": [
  {
   "cell_type": "markdown",
   "id": "4bdce7af-cdaf-461c-a7bd-a2834e979d5c",
   "metadata": {},
   "source": [
    "1. Write a Python class named Book with the following attributes:\n",
    "\n",
    "- title (string)\n",
    "- author (string)\n",
    "- price (float)\n",
    "- stock (integer)\n",
    "\n",
    "The class should have the following methods:\n",
    "\n",
    "- A constructor to initialize the book's details.\n",
    "- A method update_stock(count) that updates the stock based on the provided count (positive for addition, negative for subtraction).\n",
    "- A method discount(price_percentage) that applies a discount to the price.\n",
    "- A method display_info() to display the book's information.\n",
    "\n",
    "Question: Write a Python program to:\n",
    "\n",
    "Create a book instance.\n",
    "\n",
    "- Update its stock and display updated information.\n",
    "- Apply a discount and display the new price.\n",
    "\n",
    "Expected Output:\n",
    "\n",
    "- Title: Python Programming\n",
    "- Author: John Doe\n",
    "- Price: 50\n",
    "- Stock: 100\n",
    "- Stock updated. New stock: 110\n",
    "- Price after discount: 40.0\n",
    "- Title: Python Programming\n",
    "- Author: John Doe\n",
    "- Price: 40.0\n",
    "- Stock: 110\n"
   ]
  },
  {
   "cell_type": "code",
   "execution_count": 10,
   "id": "e937ef13-b670-4f78-b2b4-2c108a6f0e27",
   "metadata": {},
   "outputs": [
    {
     "name": "stdout",
     "output_type": "stream",
     "text": [
      "Title: Python Programming\n",
      "Author: John Doe\n",
      "Price: 50\n",
      "Stock: 100\n",
      "Stock updated. New stock: 110\n",
      "Price after discount: 40.0\n",
      "Title: Python Programming\n",
      "Author: John Doe\n",
      "Price: 40.0\n",
      "Stock: 110\n"
     ]
    }
   ],
   "source": [
    "class Book:\n",
    "    def __init__(self, title, author, price, stock):\n",
    "        self.title = title\n",
    "        self.author = author\n",
    "        self.price = price\n",
    "        self.stock = stock\n",
    "\n",
    "    def update_stock(self, count):\n",
    "        self.stock += count\n",
    "        print(f\"Stock updated. New stock: {self.stock}\")\n",
    "\n",
    "    def discount(self, percentage):\n",
    "        self.price -= self.price * (percentage / 100)\n",
    "        print(f\"Price after discount: {self.price}\")\n",
    "\n",
    "    def display_info(self):\n",
    "        print(f\"Title: {self.title}\")\n",
    "        print(f\"Author: {self.author}\")\n",
    "        print(f\"Price: {self.price}\")\n",
    "        print(f\"Stock: {self.stock}\")\n",
    "\n",
    "\n",
    "book = Book(\"Python Programming\", \"John Doe\", 50, 100)\n",
    "book.display_info()\n",
    "book.update_stock(10)\n",
    "book.discount(20)\n",
    "book.display_info()"
   ]
  },
  {
   "cell_type": "markdown",
   "id": "d87ac2e7-8041-48c6-aa52-47ddd2cb0330",
   "metadata": {},
   "source": [
    "2. Question:\n",
    "\n",
    "Imagine a scenario where we have two classes:\n",
    "\n",
    "Person: Represents a person with attributes like name and age, and a method introduce() to introduce the person.\n",
    "\n",
    "Employee: Represents an employee with attributes like employee_id and department, and a method work() to describe the work of the employee.\n",
    "\n",
    "Create a child class Manager that inherits from both Person and Employee. The Manager class should have a method manage() that describes the work the manager does. Instantiate a Manager object and call all methods (introduce(), work(), and manage()).\n",
    "\n",
    "Expected Output:\n",
    "\n",
    "- Hello, my name is John and I am 35 years old.\n",
    "- Employee M123 is working in HR department.\n",
    "- Manager John is managing the team in the HR department.\n"
   ]
  },
  {
   "cell_type": "code",
   "execution_count": 9,
   "id": "a9a697dd-488e-4400-95bd-11ea01ce3235",
   "metadata": {},
   "outputs": [
    {
     "name": "stdout",
     "output_type": "stream",
     "text": [
      "Hello, my name is John and I am 35 years old.\n",
      "Employee M123 is working in HR department.\n",
      "Manager John is managing the team in the HR department.\n"
     ]
    }
   ],
   "source": [
    "class Person:\n",
    "    def __init__(self, name, age):\n",
    "        self.name = name\n",
    "        self.age = age\n",
    "\n",
    "    def introduce(self):\n",
    "        print(f\"Hello, my name is {self.name} and I am {self.age} years old.\")\n",
    "\n",
    "class Employee:\n",
    "    def __init__(self, employee_id, department):\n",
    "        self.employee_id = employee_id\n",
    "        self.department = department\n",
    "\n",
    "    def work(self):\n",
    "        print(f\"Employee {self.employee_id} is working in {self.department} department.\")\n",
    "\n",
    "class Manager(Person, Employee):\n",
    "    def __init__(self, name, age, employee_id, department):\n",
    "        Person.__init__(self, name, age)\n",
    "        Employee.__init__(self, employee_id, department)\n",
    "\n",
    "    def manage(self):\n",
    "        print(f\"Manager {self.name} is managing the team in the {self.department} department.\")\n",
    "\n",
    "\n",
    "manager = Manager(\"John\", 35, \"M123\", \"HR\")\n",
    "manager.introduce()\n",
    "manager.work() \n",
    "manager.manage()  \n"
   ]
  },
  {
   "cell_type": "markdown",
   "id": "bdf0dc26-ebdc-4cf4-bb11-3f0b45757c3c",
   "metadata": {},
   "source": [
    "3. Question:\n",
    "\n",
    "In a transportation system, we have two classes:\n",
    "\n",
    "- ElectricVehicle: A class that has a method charge() to charge the vehicle.\n",
    "\n",
    "- GasolineVehicle: A class that has a method fuel_up() to refuel the vehicle.\n",
    "\n",
    "Create a class HybridCar that inherits from both ElectricVehicle and GasolineVehicle. The HybridCar class should have a method drive() that prints a message showing the car is being driven. Instantiate an object of class HybridCar and demonstrate the usage of charge(), fuel_up(), and drive().\n",
    "\n",
    "Expected Output:\n",
    "\n",
    "- Charging the electric vehicle.\n",
    "- Filling up the gasoline tank.\n",
    "- Driving the hybrid car.\n"
   ]
  },
  {
   "cell_type": "code",
   "execution_count": 8,
   "id": "d7ba5696-1a3f-467b-9d65-5f1365e699ec",
   "metadata": {},
   "outputs": [
    {
     "name": "stdout",
     "output_type": "stream",
     "text": [
      "Charging the electric vehicle.\n",
      "Filling up the gasoline tank.\n",
      "Driving the hybrid car.\n"
     ]
    }
   ],
   "source": [
    "class ElectricVehicle:\n",
    "    def charge(self):\n",
    "        print(\"Charging the electric vehicle.\")\n",
    "\n",
    "class GasolineVehicle:\n",
    "    def fuel_up(self):\n",
    "        print(\"Filling up the gasoline tank.\")\n",
    "\n",
    "class HybridCar(ElectricVehicle, GasolineVehicle):\n",
    "    def drive(self):\n",
    "        print(\"Driving the hybrid car.\")\n",
    "\n",
    "\n",
    "hybrid_car = HybridCar()\n",
    "hybrid_car.charge() \n",
    "hybrid_car.fuel_up()\n",
    "hybrid_car.drive()\n"
   ]
  },
  {
   "cell_type": "markdown",
   "id": "26d74543-af04-405e-90f4-242f5113c9b2",
   "metadata": {},
   "source": [
    "4. Question:\n",
    "\n",
    "Create a class Animal with a method make_sound(), which prints \"Animal makes a sound\". Then, create two subclasses:\n",
    "\n",
    "- Lion: Override the make_sound() method to print \"Roar\".\n",
    "- Cat: Override the make_sound() method to print \"Meow\".\n",
    "\n",
    "Demonstrate polymorphism by calling make_sound() on instances of Lion and Cat."
   ]
  },
  {
   "cell_type": "code",
   "execution_count": 7,
   "id": "01807233-0af2-4015-b0a6-62fe12879df2",
   "metadata": {},
   "outputs": [
    {
     "name": "stdout",
     "output_type": "stream",
     "text": [
      "Roar\n",
      "Meow\n"
     ]
    }
   ],
   "source": [
    "class Animal:\n",
    "    def make_sound(self):\n",
    "        print(\"Animal makes a sound\")\n",
    "\n",
    "class Lion(Animal):\n",
    "    def make_sound(self):\n",
    "        print(\"Roar\")\n",
    "\n",
    "class Cat(Animal):\n",
    "    def make_sound(self):\n",
    "        print(\"Meow\")\n",
    "\n",
    "\n",
    "lion = Lion()\n",
    "cat = Cat()\n",
    "\n",
    "lion.make_sound()\n",
    "cat.make_sound()\n"
   ]
  },
  {
   "cell_type": "markdown",
   "id": "4a896d59-313a-41eb-8f81-cb1af3dfb8f1",
   "metadata": {},
   "source": [
    "5. Create a class Greeting with a method greet() that can handle different numbers of arguments.\n",
    "\n",
    "- If no argument is passed, it should print \"Hello!\".\n",
    "- If one argument (a name) is passed, it should print \"Hello, <name>!\".\n",
    "- If two arguments (a name and a greeting) are passed, it should print the greeting with the name (e.g., \"Good morning, <name>!\").\n",
    "\n",
    "Simulate method overloading using default arguments or variable-length arguments, and demonstrate the polymorphic behavior by calling greet() with different numbers of arguments.\n",
    "\n",
    "Expected Output:\n",
    "\n",
    "- Hello!\n",
    "- Hello, John!\n",
    "- Good morning, John!\n"
   ]
  },
  {
   "cell_type": "code",
   "execution_count": 11,
   "id": "242d6d7a-1cf2-4208-b230-8f83b55cbf30",
   "metadata": {},
   "outputs": [
    {
     "name": "stdout",
     "output_type": "stream",
     "text": [
      "Hello!\n",
      "Hello, John!\n",
      "Good morning, John!\n"
     ]
    }
   ],
   "source": [
    "class Greeting:\n",
    "    def greet(self, *args):\n",
    "        if len(args) == 0:\n",
    "            print(\"Hello!\")\n",
    "        elif len(args) == 1:\n",
    "            print(f\"Hello, {args[0]}!\")\n",
    "        elif len(args) == 2:\n",
    "            print(f\"{args[0]}, {args[1]}!\")\n",
    "        else:\n",
    "            print(\"Invalid input!\")\n",
    "\n",
    "\n",
    "greeting = Greeting()\n",
    "\n",
    "greeting.greet() \n",
    "greeting.greet(\"John\")\n",
    "greeting.greet(\"Good morning\", \"John\")\n"
   ]
  },
  {
   "cell_type": "markdown",
   "id": "661ef0b0-c1ee-4940-b92a-f0eb6c8774c8",
   "metadata": {},
   "source": [
    "6. Create a class CarRental to manage the rental of cars.\n",
    "\n",
    "- The class should have private attributes for the car's name, price per day, and the number of rental days.\n",
    "- Create a method to calculate the total rental cost and a method to set the rental days.\n",
    "- Use getter and setter methods for modifying and accessing the car's information.\n",
    "\n",
    "Demonstrate encapsulation by creating an object of CarRental and calculating the total rental cost.\n",
    "\n",
    "Expected Output:\n",
    "\n",
    "- Car Name: Toyota Camry\n",
    "- Price Per Day: $50\n",
    "\n",
    "- Rental Days: 5\n",
    "\n",
    "- Total Rental Cost: $250\n"
   ]
  },
  {
   "cell_type": "code",
   "execution_count": 2,
   "id": "134a550d-239b-4009-993e-c5c76fafed71",
   "metadata": {},
   "outputs": [
    {
     "name": "stdout",
     "output_type": "stream",
     "text": [
      "Car Name: Toyota Camry\n",
      "Price Per Day: $50\n",
      "Rental Days: 5\n",
      "Total Rental Cost: $250\n"
     ]
    }
   ],
   "source": [
    "class CarRental:\n",
    "    def __init__(self, car_name, price_per_day):\n",
    "        self.__car_name = car_name  \n",
    "        self.__price_per_day = price_per_day  \n",
    "        self.__rental_days = 0  #\n",
    "\n",
    "    # Getter\n",
    "    def get_car_name(self):\n",
    "        return self.__car_name\n",
    "\n",
    "    def get_price_per_day(self):\n",
    "        return self.__price_per_day\n",
    "\n",
    "    def get_rental_days(self):\n",
    "        return self.__rental_days\n",
    "\n",
    "    # Setter\n",
    "    def set_rental_days(self, rental_days):\n",
    "        if rental_days > 0:\n",
    "            self.__rental_days = rental_days\n",
    "        else:\n",
    "            print(\"Rental days must be a positive number.\")\n",
    "\n",
    "    #total rental cost\n",
    "    def calculate_total_cost(self):\n",
    "        return self.__price_per_day * self.__rental_days\n",
    "\n",
    "\n",
    "rental = CarRental(\"Toyota Camry\", 50)\n",
    "\n",
    "\n",
    "rental.set_rental_days(5)\n",
    "\n",
    "\n",
    "print(f\"Car Name: {rental.get_car_name()}\")\n",
    "print(f\"Price Per Day: ${rental.get_price_per_day()}\")\n",
    "print(f\"Rental Days: {rental.get_rental_days()}\")\n",
    "print(f\"Total Rental Cost: ${rental.calculate_total_cost()}\")\n"
   ]
  },
  {
   "cell_type": "markdown",
   "id": "f1a4787e-750f-4ad1-b4ba-75ec1bb81e3e",
   "metadata": {},
   "source": [
    "7. Create a class SecuritySystem to manage a Security PIN. The class should have:\n",
    "\n",
    "- A private attribute __pin to store the PIN.\n",
    "- A method validate_pin(pin) that checks if the input PIN matches the stored one.\n",
    "- A method change_pin(old_pin, new_pin) to allow the user to change their PIN. The method should:\n",
    "    - Ensure the old PIN is correct.\n",
    "    - Ensure the new PIN is a 4-digit number.\n",
    "\n",
    "Demonstrate the following:\n",
    "\n",
    "- Validate the PIN.\n",
    "- Change the PIN with correct and incorrect old PINs, and valid/invalid new PINs.\n",
    "\n",
    "Expected Output:\n",
    "\n",
    "- PIN validated successfully.\n",
    "- Invalid PIN.\n",
    "- PIN changed successfully.\n",
    "- New PIN must be a 4-digit number.\n",
    "- Incorrect old PIN. PIN not changed.\n"
   ]
  },
  {
   "cell_type": "code",
   "execution_count": 4,
   "id": "f6222716-3474-4f35-959c-b4a095277c8c",
   "metadata": {},
   "outputs": [
    {
     "name": "stdout",
     "output_type": "stream",
     "text": [
      "PIN validated successfully.\n",
      "Invalid PIN.\n",
      "PIN changed successfully.\n",
      "Incorrect old PIN. PIN not changed.\n",
      "Incorrect old PIN. PIN not changed.\n"
     ]
    }
   ],
   "source": [
    "class SecuritySystem:\n",
    "    def __init__(self, pin):\n",
    "        self.__pin = pin\n",
    "\n",
    "    def validate_pin(self, pin):\n",
    "        if self.__pin == pin:\n",
    "            print(\"PIN validated successfully.\")\n",
    "            return True\n",
    "        else:\n",
    "            print(\"Invalid PIN.\")\n",
    "            return False\n",
    "\n",
    "    def change_pin(self, old_pin, new_pin):\n",
    "        if self.__pin == old_pin:\n",
    "            if len(new_pin) == 4 and new_pin.isdigit():\n",
    "                self.__pin = new_pin\n",
    "                print(\"PIN changed successfully.\")\n",
    "            else:\n",
    "                print(\"New PIN must be a 4-digit number.\")\n",
    "        else:\n",
    "            print(\"Incorrect old PIN. PIN not changed.\")\n",
    "\n",
    "#Initial PIN\n",
    "security = SecuritySystem(\"1234\")\n",
    "\n",
    "# Validating the PIN\n",
    "security.validate_pin(\"1234\")  # Correct\n",
    "security.validate_pin(\"4321\")  # Incorrect\n",
    "\n",
    "# Changing the PIN\n",
    "security.change_pin(\"1234\", \"5678\")  # Correct old PIN and valid new PIN\n",
    "security.change_pin(\"1234\", \"abcd\")  # Invalid new\n",
    "security.change_pin(\"1111\", \"9876\")  # Incorrect old\n"
   ]
  },
  {
   "cell_type": "markdown",
   "id": "dac58e05-da6b-4ab2-9c8d-d19f1e4b5170",
   "metadata": {},
   "source": [
    "8. Create an abstract class SmartHomeDevice with two abstract methods:\n",
    "\n",
    "- turn_on() (to turn the device on)\n",
    "- turn_off() (to turn the device off)\n",
    "\n",
    "Then, create a Light class that inherits from SmartHomeDevice. Implement the methods turn_on() and turn_off() for a light device. The turn_on() method should print \"Light is ON\", and the turn_off() method should print \"Light is OFF\".\n",
    "\n",
    "Write a Python program to control the light device in a smart home.\n",
    "\n",
    "Expected Output:\n",
    "\n",
    "- Turning on the light...\n",
    "- Light is ON\n",
    "- Turning off the light...\n",
    "- Light is OFF\n"
   ]
  },
  {
   "cell_type": "code",
   "execution_count": 5,
   "id": "d3f34e7e-5d5c-4e2b-a1ef-06c818d59a55",
   "metadata": {},
   "outputs": [
    {
     "name": "stdout",
     "output_type": "stream",
     "text": [
      "Turning on the light...\n",
      "Light is ON\n",
      "Turning off the light...\n",
      "Light is OFF\n"
     ]
    }
   ],
   "source": [
    "class SmartHomeDevice:\n",
    "    def turn_on(self):\n",
    "        return \"This method should be overridden in the subclass\"\n",
    "    \n",
    "    def turn_off(self):\n",
    "        return \"This method should be overridden in the subclass\"\n",
    "\n",
    "class Light(SmartHomeDevice):\n",
    "    def turn_on(self):\n",
    "        print(\"Light is ON\")\n",
    "    \n",
    "    def turn_off(self):\n",
    "        print(\"Light is OFF\")\n",
    "\n",
    "\n",
    "light = Light()\n",
    "print(\"Turning on the light...\")\n",
    "light.turn_on()\n",
    "print(\"Turning off the light...\")\n",
    "light.turn_off()\n"
   ]
  },
  {
   "cell_type": "markdown",
   "id": "1c70c9fc-177c-4f0a-a63a-31725e52a6e8",
   "metadata": {},
   "source": [
    "9. Use abstraction to model different geometric shapes such as circle and rectangle.\n",
    "\n",
    "Instructions:\n",
    "\n",
    "- Create an abstract class Shape with a method area to calculate the area.\n",
    "- Create concrete classes Circle and Rectangle that implement the area method.\n",
    "- Create instances of these shapes and calculate their areas.\n",
    "\n",
    "Expected Output:\n",
    "\n",
    "- Area of Circle: 78.5\n",
    "- Area of Rectangle: 24\n"
   ]
  },
  {
   "cell_type": "code",
   "execution_count": 6,
   "id": "7caf2aae-c0f6-4e53-a221-84f350b1ab69",
   "metadata": {},
   "outputs": [
    {
     "name": "stdout",
     "output_type": "stream",
     "text": [
      "Area of Circle: 78.5\n",
      "Area of Rectangle: 24\n"
     ]
    }
   ],
   "source": [
    "class Shape:\n",
    "    def area(self):\n",
    "        return \"This method should be implemented by the subclass.\"\n",
    "\n",
    "class Circle(Shape):\n",
    "    def __init__(self, radius):\n",
    "        self.radius = radius\n",
    "    \n",
    "    def area(self):\n",
    "        return 3.14 * self.radius ** 2\n",
    "\n",
    "class Rectangle(Shape):\n",
    "    def __init__(self, length, width):\n",
    "        self.length = length\n",
    "        self.width = width\n",
    "    \n",
    "    def area(self):\n",
    "        return self.length * self.width\n",
    "\n",
    "\n",
    "circle = Circle(5)\n",
    "rectangle = Rectangle(4, 6)\n",
    "\n",
    "print(\"Area of Circle:\", circle.area())\n",
    "print(\"Area of Rectangle:\", rectangle.area())\n"
   ]
  },
  {
   "cell_type": "markdown",
   "id": "1f25bad1-1da3-47a7-9a4d-7f2641bea2e6",
   "metadata": {},
   "source": [
    "10. Create a \"BankAccount\" Class\n",
    "\n",
    "Write a Python class named BankAccount that represents a bank account with the following attributes:\n",
    "\n",
    "- account_holder (string)\n",
    "- balance (float)\n",
    "\n",
    "The class should have the following methods:\n",
    "\n",
    "- A constructor to initialize the account holder and the balance.\n",
    "- A method deposit(amount) to deposit money into the account.\n",
    "- A method withdraw(amount) to withdraw money from the account (ensure the balance doesn't go below 0).\n",
    "- A method display_balance() to show the current balance.\n",
    "\n",
    "Question: Write a Python program to:\n",
    "\n",
    "- Create a bank account.\n",
    "- Deposit and withdraw some money.\n",
    "- Display the account's balance after each transaction\n",
    "\n",
    "Expected Output:\n",
    "\n",
    "- Balance: 1000\n",
    "- Deposited: 500. New balance: 1500\n",
    "- Withdrew: 300. New balance: 1200\n",
    "- Balance: 1200\n"
   ]
  },
  {
   "cell_type": "code",
   "execution_count": null,
   "id": "b04d427c-4412-4998-8ba9-276020bc4eae",
   "metadata": {},
   "outputs": [],
   "source": [
    "class BankAccount:\n",
    "    def __init__(self, account_holder, balance=0):\n",
    "        self.account_holder = account_holder\n",
    "        self.balance = balance\n",
    "\n",
    "    def deposit(self, amount):\n",
    "        self.balance += amount\n",
    "        print(f\"Deposited: {amount}. New balance: {self.balance}\")\n",
    "\n",
    "    def withdraw(self, amount):\n",
    "        if self.balance >= amount:\n",
    "            self.balance -= amount\n",
    "            print(f\"Withdrew: {amount}. New balance: {self.balance}\")\n",
    "        else:\n",
    "            print(\"Insufficient funds\")\n",
    "\n",
    "    def display_balance(self):\n",
    "        print(f\"Balance: {self.balance}\")\n",
    "\n",
    "\n",
    "account = BankAccount(\"John Doe\", 1000)\n",
    "account.display_balance()\n",
    "account.deposit(500)\n",
    "account.withdraw(300)\n",
    "account.display_balance()\n"
   ]
  },
  {
   "cell_type": "code",
   "execution_count": null,
   "id": "0904ca1c-8085-41eb-9f69-cfd1c2bf28cd",
   "metadata": {},
   "outputs": [],
   "source": []
  },
  {
   "cell_type": "code",
   "execution_count": null,
   "id": "72dd8a17-0478-4663-b550-bf86f8bdb297",
   "metadata": {},
   "outputs": [],
   "source": []
  }
 ],
 "metadata": {
  "kernelspec": {
   "display_name": "Python 3 (ipykernel)",
   "language": "python",
   "name": "python3"
  },
  "language_info": {
   "codemirror_mode": {
    "name": "ipython",
    "version": 3
   },
   "file_extension": ".py",
   "mimetype": "text/x-python",
   "name": "python",
   "nbconvert_exporter": "python",
   "pygments_lexer": "ipython3",
   "version": "3.12.7"
  }
 },
 "nbformat": 4,
 "nbformat_minor": 5
}
