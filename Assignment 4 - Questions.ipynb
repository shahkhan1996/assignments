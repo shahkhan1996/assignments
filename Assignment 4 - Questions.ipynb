{
 "cells": [
  {
   "cell_type": "markdown",
   "id": "70ac315f-0092-4e83-8124-0e6d8ecae798",
   "metadata": {},
   "source": [
    "Q1. my_tuple = ( (1, 2, 3), [4, 5, 6], ('apple', 'banana', 'cherry'), [7, 8, 9] )\n",
    "\n",
    "\n",
    "•\tPrint all elements from my_tuple on a new line (using for loop)\n",
    "\n",
    "•\tCreate a new tuple by concatenating the first and last elements of my_tuple\n"
   ]
  },
  {
   "cell_type": "markdown",
   "id": "5d6a7bc4-f29f-4b74-a838-e17100ac1524",
   "metadata": {},
   "source": [
    "Q2. inventory = { \"The Great Gatsby\": {\"price\": 10.99, \"quantity\": 5}, \"Rich dad poor dad\": {\"price\": 8.99, \"quantity\": 8}, \"Harry Potter\": {\"price\": 12.50, \"quantity\": 2}, }\n",
    "\n",
    "•\tAdd a new book in inventory using method and get all book titles using method\n",
    "\n",
    "•\tRemove a book if it's out of stock"
   ]
  },
  {
   "cell_type": "markdown",
   "id": "7d96ee5d-33a6-4f31-ab31-4135a13fe47b",
   "metadata": {},
   "source": [
    "Q3. An e-commerce store stores information about its products in a nested dictionary. The outer dictionary uses product IDs as keys, and the inner dictionary stores product details like name, category, price, and stock quantity.\n",
    "products = { 101: {\"name\": \"Laptop\", \"category\": \"Electronics\", \"price\": 1200, \"stock\": 50}, 102: {\"name\": \"Shirt\", \"category\": \"Apparel\", \"price\": 25, \"stock\": 200}, 103: {\"name\": \"Coffee Maker\", \"category\": \"Home Appliances\", \"price\": 80, \"stock\": 30} }\n",
    "\n",
    "\n",
    "•\tIncrease the stock of the \"Shirt\" product (add 50 more units)\n",
    "\n",
    "•\tAdd a new product (e.g., \"Smartphone\")\n"
   ]
  },
  {
   "cell_type": "markdown",
   "id": "b5495250-aaba-4a8d-91dc-3b5c5359560c",
   "metadata": {},
   "source": [
    "Q4. You are given a list that contains some duplicate items. Remove the duplicates by converting the list to a set.\n",
    "\n",
    "shopping_list = [\"apple\", \"banana\", \"apple\", \"orange\", \"banana\", \"grape\"]\n"
   ]
  },
  {
   "cell_type": "markdown",
   "id": "4a5c42fc-fdab-4b02-a90e-e5599372a17e",
   "metadata": {},
   "source": [
    "Q5. You are managing a list of students enrolled in two different courses. You need to perform various set operations to understand the student enrollment. Task: Create two sets: one for students in \"Course A\" and one for students in \"Course B\". Find the students who are in \"Course A\" but not in \"Course B\" (difference). Find students who are only in one of the two courses (symmetric difference). course_a = {\"John\", \"Alice\", \"Bob\", \"David\"} course_b = {\"Alice\", \"Eve\", \"Charlie\", \"David\"}\n",
    "\n",
    "•\tFind students who are in Course A but not in Course B (difference)\n",
    "\n",
    "•\tFind students who are only in one of the two courses (symmetric difference)\n"
   ]
  },
  {
   "cell_type": "markdown",
   "id": "d456bfad-b5a0-4f27-a1e8-2bcba0dbb52e",
   "metadata": {},
   "source": [
    "Q6. Write a Python program that calculates the sum of all even numbers between 1 and 50 (inclusive) using a for loop.\n",
    "\n",
    "Hint\n",
    "\n",
    "1.\tInitialize a variable to hold the sum (e.g., sum_of_evens).\n",
    "2.\tUse a for loop to iterate through all numbers from 1 to 50.\n",
    "3.\tInside the loop, check if the number is even.\n",
    "4.\tIf the number is even, add it to sum_of_evens.\n",
    "5.\tAfter the loop finishes, print the total sum of all even numbers between 1 and 50.\n"
   ]
  },
  {
   "cell_type": "markdown",
   "id": "35b7f41c-fdcd-4105-8f3d-e2e70e3e1d19",
   "metadata": {},
   "source": [
    "Q7. Write a Python program that prints the multiplication table for a given number (between 1 and 10) using a for loop.\n",
    "\n",
    "Hint:\n",
    "\n",
    "1.\tAsk the user for a number between 1 and 10 .\n",
    "2.\tUse a for loop to iterate through the numbers from 1 to 10.\n",
    "3.\tFor each iteration, calculate the product of the given number and the current number in the loop.\n",
    "4.\tPrint the result in a readable format (e.g., 5 x 1 = 5).\n",
    "5.\tEnsure the program works correctly for any number between 1 and 10.\n",
    "\n",
    "Output Hint:\n",
    "\n",
    "- 4 x 1 = 4\n",
    "- 4 x 2 = 8\n",
    "- 4 x 3 = 12\n",
    "- 4 x 4 = 16\n",
    "- 4 x 5 = 20\n",
    "- 4 x 6 = 24\n",
    "- 4 x 7 = 28\n",
    "- 4 x 8 = 32\n",
    "- 4 x 9 = 36\n",
    "- 4 x 10 = 40\n"
   ]
  },
  {
   "cell_type": "markdown",
   "id": "83ab2ed3-5faa-408c-8880-cc966a2380f5",
   "metadata": {},
   "source": [
    "Q8. Power of a Number\n",
    "Write a Python program that takes a number and prints the powers of the number (starting from 1 to 10) using a while loop. For example, if the user inputs 3, the output should be:\n",
    "\n",
    "3^1 = 3\n",
    "\n",
    "3^2 = 9\n",
    "\n",
    "3^3 = 27\n",
    "\n",
    "... up to 3^10.\n"
   ]
  },
  {
   "cell_type": "markdown",
   "id": "6a086954-f7fb-4012-bb02-78adffacc366",
   "metadata": {},
   "source": [
    "Q9.  Problem Statement: Write a Python program that takes an integer input from the user and counts down from that number to 0. The program should display the current number at each step until it reaches 0, at which point it should print a message indicating the countdown is finished\n",
    "\n",
    "Output Hint:\n",
    "\n",
    "Enter a number to start the countdown:  3\n",
    "- 3\n",
    "- 2\n",
    "- 1\n",
    "- 0\n",
    "- Countdown finished!"
   ]
  },
  {
   "cell_type": "markdown",
   "id": "4ddb6504-4a44-4279-b5e9-fd71d6a941b0",
   "metadata": {},
   "source": [
    "Q10. Write a Python program that takes an integer input n from the user and generates a right-angled triangle pattern of stars (*) with n rows. The first row should contain 1 star, the second row 2 stars, the third row 3 stars, and so on until the nth row.\n",
    "Ensure the stars in each row are separated by spaces, and each row starts on a new line.\n"
   ]
  },
  {
   "cell_type": "code",
   "execution_count": null,
   "id": "b9c33573-693c-4de5-8bb3-e56818ca05be",
   "metadata": {},
   "outputs": [],
   "source": [
    "# Pattern:\n",
    "*\n",
    "**\n",
    "***\n",
    "****\n",
    "*****"
   ]
  },
  {
   "cell_type": "code",
   "execution_count": null,
   "id": "d5648a98-4945-4015-b091-900a302bd6fc",
   "metadata": {},
   "outputs": [],
   "source": []
  }
 ],
 "metadata": {
  "kernelspec": {
   "display_name": "Python 3 (ipykernel)",
   "language": "python",
   "name": "python3"
  },
  "language_info": {
   "codemirror_mode": {
    "name": "ipython",
    "version": 3
   },
   "file_extension": ".py",
   "mimetype": "text/x-python",
   "name": "python",
   "nbconvert_exporter": "python",
   "pygments_lexer": "ipython3",
   "version": "3.12.7"
  }
 },
 "nbformat": 4,
 "nbformat_minor": 5
}
